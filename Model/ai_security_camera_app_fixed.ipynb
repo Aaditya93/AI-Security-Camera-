{
 "cells": [
  {
   "cell_type": "code",
   "execution_count": 5,
   "id": "df78fa1b-0f28-4380-9658-96a54716db06",
   "metadata": {},
   "outputs": [
    {
     "ename": "ModuleNotFoundError",
     "evalue": "No module named 'utils'",
     "output_type": "error",
     "traceback": [
      "\u001b[0;31m---------------------------------------------------------------------------\u001b[0m",
      "\u001b[0;31mModuleNotFoundError\u001b[0m                       Traceback (most recent call last)",
      "Cell \u001b[0;32mIn[5], line 10\u001b[0m\n\u001b[1;32m      6\u001b[0m \u001b[38;5;28;01mimport\u001b[39;00m \u001b[38;5;21;01mcv2\u001b[39;00m\n\u001b[1;32m      9\u001b[0m \u001b[38;5;66;03m# Custom imports\u001b[39;00m\n\u001b[0;32m---> 10\u001b[0m \u001b[38;5;28;01mfrom\u001b[39;00m \u001b[38;5;21;01mutils\u001b[39;00m\u001b[38;5;21;01m.\u001b[39;00m\u001b[38;5;21;01mdata_processor\u001b[39;00m \u001b[38;5;28;01mimport\u001b[39;00m SecurityDataProcessor\n\u001b[1;32m     11\u001b[0m \u001b[38;5;28;01mfrom\u001b[39;00m \u001b[38;5;21;01mutils\u001b[39;00m\u001b[38;5;21;01m.\u001b[39;00m\u001b[38;5;21;01mmodel_builder\u001b[39;00m \u001b[38;5;28;01mimport\u001b[39;00m SecurityModelBuilder\n\u001b[1;32m     12\u001b[0m \u001b[38;5;28;01mfrom\u001b[39;00m \u001b[38;5;21;01mutils\u001b[39;00m\u001b[38;5;21;01m.\u001b[39;00m\u001b[38;5;21;01mvisualizer\u001b[39;00m \u001b[38;5;28;01mimport\u001b[39;00m SecurityVisualizer\n",
      "\u001b[0;31mModuleNotFoundError\u001b[0m: No module named 'utils'"
     ]
    }
   ],
   "source": [
    "import tensorflow as tf\n",
    "import numpy as np\n",
    "import pandas as pd\n",
    "from sklearn.model_selection import train_test_split\n",
    "import matplotlib.pyplot as plt\n",
    "import cv2\n",
    "\n",
    "\n",
    "# Custom imports\n",
    "from utils.data_processor import SecurityDataProcessor\n",
    "from utils.model_builder import SecurityModelBuilder\n",
    "from utils.visualizer import SecurityVisualizer"
   ]
  },
  {
   "cell_type": "code",
   "execution_count": null,
   "id": "1d9f8b78-20ef-433d-a738-fab1f8a5995c",
   "metadata": {},
   "outputs": [],
   "source": [
    "class SecurityDataset:\n",
    "    def __init__(self, base_path):\n",
    "        self.base_path = base_path\n",
    "        self.processor = SecurityDataProcessor()\n",
    "    \n",
    "    def load_datasets(self):\n",
    "        # Load COCO security subset\n",
    "        coco_data = pd.read_csv(f'{self.base_path}/coco_security.csv')\n",
    "        \n",
    "        # Load weapon detection data\n",
    "        weapon_data = pd.read_csv(f'{self.base_path}/weapon_detection.csv')\n",
    "        \n",
    "        # Load activity recognition data\n",
    "        activity_data = pd.read_csv(f'{self.base_path}/activity_recognition.csv')\n",
    "        \n",
    "        return self.processor.combine_datasets(\n",
    "            coco_data, weapon_data, activity_data\n",
    "        )\n",
    "\n",
    "# Initialize dataset\n",
    "security_data = SecurityDataset('../Dataset')\n",
    "combined_data = security_data.load_datasets()"
   ]
  }
 ],
 "metadata": {
  "kernelspec": {
   "display_name": "Python 3 (ipykernel)",
   "language": "python",
   "name": "python3"
  },
  "language_info": {
   "codemirror_mode": {
    "name": "ipython",
    "version": 3
   },
   "file_extension": ".py",
   "mimetype": "text/x-python",
   "name": "python",
   "nbconvert_exporter": "python",
   "pygments_lexer": "ipython3",
   "version": "3.12.4"
  }
 },
 "nbformat": 4,
 "nbformat_minor": 5
}
